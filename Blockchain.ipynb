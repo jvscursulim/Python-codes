{
 "cells": [
  {
   "cell_type": "code",
   "execution_count": 1,
   "metadata": {},
   "outputs": [],
   "source": [
    "# A python version of the blockchain constructed using JavaScript\n",
    "# on the video series \"Building a blockchain with JavaScript\".\n",
    "# Playlist link: https://www.youtube.com/watch?v=zVqczFZr124&list=PLzvRQMJ9HDiTqZmbtFisdXFxul5k0F-Q4&index=1\n",
    "import numpy as np\n",
    "import hashlib\n",
    "from datetime import datetime\n",
    "from Crypto.PublicKey import ECC"
   ]
  },
  {
   "cell_type": "code",
   "execution_count": 2,
   "metadata": {},
   "outputs": [],
   "source": [
    "def encrypt_string(hash_string: str) -> str:\n",
    "    \"\"\" Returns a string encrypted using SHA256.\n",
    "    \n",
    "    Args:\n",
    "        hash_string (string): Information that will be encrypted using SHA256.\n",
    "    Returns:\n",
    "        sha_signature (string): Encrypted SHA256 version of the hash_string.\n",
    "    \"\"\"\n",
    "    sha_signature = hashlib.sha256(hash_string.encode()).hexdigest()\n",
    "    return sha_signature"
   ]
  },
  {
   "cell_type": "code",
   "execution_count": 3,
   "metadata": {},
   "outputs": [],
   "source": [
    "class Transaction:\n",
    "    def __init__(self, senderAddress: str, receiverAddress: str, amount: float):\n",
    "        \"\"\" Initialization of the Transaction class, whose is a definition of the action of\n",
    "        send or receive some amount of a cryptocurrency.\n",
    "        \n",
    "        Properties:\n",
    "            senderAddress (string): Wallet address of the sender in the transaction.\n",
    "            receiverAddress (string): Wallet addres of the receiver in the transaction.\n",
    "            amount (float): The quantity of the cryptocurrency that are going to be transferred.\n",
    "        \"\"\"\n",
    "        self.senderAddress = senderAddress\n",
    "        self.receiverAddress = receiverAddress\n",
    "        self.amount = amount\n",
    "        \n",
    "    #def calculateHash(self):\n",
    "    #    \"\"\"\n",
    "    #    \"\"\"\n",
    "    #    return encrypt_string(self.senderAddress + self.receiverAddress + str(self.amount))\n",
    "    \n",
    "    #def signTransaction(signingKey):\n",
    "    #    transactionHash = self.calculateHash()\n",
    "    #    signature = ECC.generate(curve='secp256r1') "
   ]
  },
  {
   "cell_type": "code",
   "execution_count": 4,
   "metadata": {},
   "outputs": [],
   "source": [
    "class Block:\n",
    "    def __init__(self, timestamp: datetime, transactions: list, previous_hash = ''):\n",
    "        \"\"\" Initialization of the Block class.\n",
    "        \n",
    "        Properties:\n",
    "            timestamp (datetime): The date of the creation of the block.\n",
    "            transactions (list): A list with the transactions that was processed\n",
    "            in this block.\n",
    "            previous_hash (string): The hash of the previous block that guarantees\n",
    "            the link between the blocks in the blockchain.\n",
    "            nonce (integer): A random auxiliary variable for the process of a\n",
    "            generation of a hash.\n",
    "            hash (string): A encrypted string generated using the others properties\n",
    "            of the block through the use of SHA256 encryption method.\n",
    "        \"\"\"\n",
    "        self.timestamp = timestamp\n",
    "        self.transactions = transactions\n",
    "        self.previous_hash = previous_hash\n",
    "        self.nonce = np.random.randint(0, 32768)\n",
    "        self.hash = self.calculateHash()\n",
    "        \n",
    "    def calculateHash(self) -> str:\n",
    "        \"\"\" A function that determines the hash of a block given its properties.\n",
    "        \n",
    "        Returns:\n",
    "            block_hash (string): A encrypted string using SHA256.\n",
    "        \"\"\"\n",
    "        block_hash = encrypt_string(str(self.timestamp) + str(self.transactions) + self.previous_hash + str(self.nonce))\n",
    "        return block_hash\n",
    "    \n",
    "    def mineBlock(self, difficulty: int) -> None:\n",
    "        \"\"\" Function that defines the process of mining a block.\n",
    "        \n",
    "        Args:\n",
    "            difficulty (int): Number of zeros that the hash must have\n",
    "            in the first n=difficulty chars to be considered valid.\n",
    "        \"\"\"\n",
    "        zeros_string = ''\n",
    "        for i in range(difficulty):\n",
    "            zeros_string = zeros_string + '0'\n",
    "        while self.hash[0:difficulty] != zeros_string:\n",
    "            self.nonce += 1\n",
    "            self.hash = self.calculateHash()   "
   ]
  },
  {
   "cell_type": "code",
   "execution_count": 5,
   "metadata": {},
   "outputs": [],
   "source": [
    "class Blockchain:\n",
    "    def __init__(self):\n",
    "        \"\"\" Initialization of the Blockchain class.\n",
    "        \n",
    "        Properties:\n",
    "            chain (list): A list of objects of Block type.\n",
    "            difficulty (integer): Set the quantity of zeros that the hash need to has for be\n",
    "            considered a valid hash. That number increase the difficulty to obtain a hash with\n",
    "            that form.\n",
    "            pendingTransactions (list): A list with the pending transactions in the chain.\n",
    "            miningReward (float): The amount of cryptocurrency that the miner will receive\n",
    "            after winning the mining process.\n",
    "        \"\"\"\n",
    "        self.chain = [self.createGenesisBlock()]\n",
    "        self.difficulty = 2\n",
    "        self.pendingTransactions = []\n",
    "        self.miningReward = 100\n",
    "        \n",
    "    def createGenesisBlock(self) -> Block:\n",
    "        \"\"\" Function that beget the genesis block of the blockchain.\n",
    "        \n",
    "        Returns:\n",
    "            Block: The genesis block.\n",
    "        \"\"\"\n",
    "        return Block(datetime.now(), \"Genesis block\", \"0\")\n",
    "    \n",
    "    def getLatestBlock(self) -> Block:\n",
    "        \"\"\" A function that gives us the last block in the blockchain.\n",
    "        \n",
    "        Returns:\n",
    "            Block: The last object of Block type in the blockchain.\n",
    "        \"\"\"\n",
    "        return self.chain[len(self.chain)-1]\n",
    "    \n",
    "    def minePendingTransactions(self, miningRewardAddress: str) -> None:\n",
    "        \"\"\" Adds the pending transactions in the transactions of the mined block.\n",
    "        \n",
    "        Args:\n",
    "            miningRewardAddress (string): The address of the wallet of the winner of\n",
    "            mining process.\n",
    "        \"\"\"\n",
    "        block = Block(datetime.now(), self.pendingTransactions, self.getLatestBlock().hash)\n",
    "        block.mineBlock(self.difficulty)\n",
    "        self.chain.append(block)\n",
    "        self.pendingTransactions = [Transaction(None, miningRewardAddress, self.miningReward)]\n",
    "        \n",
    "    def addAPendingTransaction(self, transaction: Transaction) -> None:\n",
    "        \"\"\" Insert an object of Transaction type in the last position of a\n",
    "        list of pending transactions.\n",
    "        \n",
    "        Args:\n",
    "            transaction (Transaction): The transaction that is going to be added\n",
    "            to the list.\n",
    "        \n",
    "        \"\"\"\n",
    "        self.pendingTransactions.append(transaction)\n",
    "        \n",
    "    def getBalanceOfAWallet(self, address: str) -> float:\n",
    "        \"\"\" Given an address, returns the balance of the wallet with this address.\n",
    "        \n",
    "        Args:\n",
    "            address (string):\n",
    "            \n",
    "        Returns:\n",
    "            balance (float): The amount of cryptocurrency stored in\n",
    "            the wallet with the given address.\n",
    "        \"\"\"\n",
    "        balance = 0\n",
    "        for i in range(1, len(self.chain)):\n",
    "            for j in range(len(self.chain[i].transactions)):\n",
    "                if self.chain[i].transactions[j].senderAddress == address:\n",
    "                    balance -= self.chain[i].transactions[j].amount\n",
    "                elif self.chain[i].transactions[j].receiverAddress == address:\n",
    "                    balance += self.chain[i].transactions[j].amount\n",
    "                    \n",
    "        return balance\n",
    "        \n",
    "    def isValid(self) -> bool:\n",
    "        \"\"\" A function that checks if the blockchain is valid or not.\n",
    "        The blockchain will be considered invalid when the hash of the\n",
    "        current block, that is under analysis, not match the hash obtained\n",
    "        through calculateHash() method. A blockchain also can be considered\n",
    "        invalid when the property previous_hash of the current_block is different\n",
    "        from the hash of the previous_block.\n",
    "        \n",
    "        Returns:\n",
    "            bool (True or False)\n",
    "        \"\"\"\n",
    "        for i in range(1, len(self.chain)):\n",
    "            current_block = self.chain[i]\n",
    "            previous_block = self.chain[i-1]\n",
    "            \n",
    "            if current_block.hash != current_block.calculateHash():\n",
    "                return False\n",
    "            if current_block.previous_hash != previous_block.hash:\n",
    "                return False\n",
    "            \n",
    "        return True\n",
    "    \n",
    "    #def addBlock(self, block: Block) -> None:\n",
    "    #    \"\"\" Adds a block to the Blockchain. \n",
    "    #    \n",
    "    #    Args:\n",
    "    #        block (Block): An object of Block type that contains some transactions.\n",
    "    #    \"\"\"\n",
    "    #    block.previous_hash = self.getLatestBlock().hash\n",
    "    #    block.mineBlock(self.difficulty)\n",
    "    #    self.chain.append(block)"
   ]
  },
  {
   "cell_type": "code",
   "execution_count": 6,
   "metadata": {},
   "outputs": [],
   "source": [
    "# Creating the object blockchain.\n",
    "blockchain = Blockchain()"
   ]
  },
  {
   "cell_type": "code",
   "execution_count": 7,
   "metadata": {},
   "outputs": [
    {
     "name": "stdout",
     "output_type": "stream",
     "text": [
      "420aaa6621f47188598bfef6470209490a631e39b3feeade9b7e87ff504d1c3e\n"
     ]
    }
   ],
   "source": [
    "# Printing the hash of the genesis block.\n",
    "print(blockchain.chain[0].hash)"
   ]
  },
  {
   "cell_type": "code",
   "execution_count": 8,
   "metadata": {},
   "outputs": [],
   "source": [
    "# Creating transactions and adding them in the pending transactions of the blockchain.\n",
    "blockchain.addAPendingTransaction(Transaction('public_key1', 'public_key2', 100))\n",
    "blockchain.addAPendingTransaction(Transaction('public_key2', 'public_key1', 50))"
   ]
  },
  {
   "cell_type": "code",
   "execution_count": 9,
   "metadata": {},
   "outputs": [],
   "source": [
    "# Processing the pending transactions.\n",
    "blockchain.minePendingTransactions('public_key3')"
   ]
  },
  {
   "cell_type": "code",
   "execution_count": 10,
   "metadata": {},
   "outputs": [
    {
     "name": "stdout",
     "output_type": "stream",
     "text": [
      "The balance of the wallet that has public_key3 as address is equal to: 0\n"
     ]
    }
   ],
   "source": [
    "# Checking the balance of the wallet of the miner.\n",
    "# Observation: Here the balance is equal to zero,\n",
    "# because the mining reward transaction is in the pending transactions.\n",
    "print('The balance of the wallet that has public_key3 as address is equal to: {}'.format(blockchain.getBalanceOfAWallet('public_key3')))"
   ]
  },
  {
   "cell_type": "code",
   "execution_count": 11,
   "metadata": {},
   "outputs": [],
   "source": [
    "# Processing the pending transactions.\n",
    "blockchain.minePendingTransactions('public_key3')"
   ]
  },
  {
   "cell_type": "code",
   "execution_count": 12,
   "metadata": {},
   "outputs": [
    {
     "name": "stdout",
     "output_type": "stream",
     "text": [
      "The balance of the wallet that has public_key3 as address is equal to: 100\n"
     ]
    }
   ],
   "source": [
    "# Checking the balance of the wallet of the miner.\n",
    "print('The balance of the wallet that has public_key3 as address is equal to: {}'.format(blockchain.getBalanceOfAWallet('public_key3')))"
   ]
  },
  {
   "cell_type": "code",
   "execution_count": 13,
   "metadata": {},
   "outputs": [],
   "source": [
    "blockchain.addAPendingTransaction(Transaction('public_key5', 'public_key4', 25))\n",
    "blockchain.addAPendingTransaction(Transaction('public_key4', 'public_key6', 78))"
   ]
  },
  {
   "cell_type": "code",
   "execution_count": 14,
   "metadata": {},
   "outputs": [],
   "source": [
    "blockchain.minePendingTransactions('public_key3')"
   ]
  },
  {
   "cell_type": "code",
   "execution_count": 15,
   "metadata": {},
   "outputs": [
    {
     "name": "stdout",
     "output_type": "stream",
     "text": [
      "The balance of the wallet that has public_key3 as address is equal to: 200\n"
     ]
    }
   ],
   "source": [
    "print('The balance of the wallet that has public_key3 as address is equal to: {}'.format(blockchain.getBalanceOfAWallet('public_key3')))"
   ]
  },
  {
   "cell_type": "code",
   "execution_count": 16,
   "metadata": {},
   "outputs": [
    {
     "data": {
      "text/plain": [
       "True"
      ]
     },
     "execution_count": 16,
     "metadata": {},
     "output_type": "execute_result"
    }
   ],
   "source": [
    "blockchain.isValid()"
   ]
  },
  {
   "cell_type": "code",
   "execution_count": 8,
   "metadata": {},
   "outputs": [],
   "source": [
    "blockchain.addBlock(bloco)"
   ]
  },
  {
   "cell_type": "code",
   "execution_count": 9,
   "metadata": {},
   "outputs": [],
   "source": [
    "last_block = blockchain.getLatestBlock()"
   ]
  },
  {
   "cell_type": "code",
   "execution_count": 10,
   "metadata": {},
   "outputs": [
    {
     "name": "stdout",
     "output_type": "stream",
     "text": [
      "00409c381398a186d2f08f1bcdab99ef342cc1643f446b048dbf1b051421340f\n"
     ]
    }
   ],
   "source": [
    "print(last_block.hash)"
   ]
  },
  {
   "cell_type": "code",
   "execution_count": 11,
   "metadata": {},
   "outputs": [
    {
     "data": {
      "text/plain": [
       "True"
      ]
     },
     "execution_count": 11,
     "metadata": {},
     "output_type": "execute_result"
    }
   ],
   "source": [
    "blockchain.isChainValid()"
   ]
  },
  {
   "cell_type": "code",
   "execution_count": 12,
   "metadata": {},
   "outputs": [],
   "source": [
    "blockchain.chain.append(Block(2, datetime.now(), \"Invalid block inserted\", encrypt_string(str(np.random.randint(0,2048)))))"
   ]
  },
  {
   "cell_type": "code",
   "execution_count": 13,
   "metadata": {},
   "outputs": [
    {
     "data": {
      "text/plain": [
       "False"
      ]
     },
     "execution_count": 13,
     "metadata": {},
     "output_type": "execute_result"
    }
   ],
   "source": [
    "blockchain.isChainValid()"
   ]
  },
  {
   "cell_type": "code",
   "execution_count": 56,
   "metadata": {},
   "outputs": [],
   "source": [
    "key = ECC.generate(curve='secp256r1')"
   ]
  },
  {
   "cell_type": "code",
   "execution_count": 57,
   "metadata": {},
   "outputs": [
    {
     "name": "stdout",
     "output_type": "stream",
     "text": [
      "b\"0\\x81\\xde0I\\x06\\t*\\x86H\\x86\\xf7\\r\\x01\\x05\\r0<0\\x1b\\x06\\t*\\x86H\\x86\\xf7\\r\\x01\\x05\\x0c0\\x0e\\x04\\x08\\xe3\\x86\\x194\\xc7\\xe35\\xb2\\x02\\x02\\x03\\xe80\\x1d\\x06\\t`\\x86H\\x01e\\x03\\x04\\x01\\x02\\x04\\x10\\xdb\\x13\\xaf\\xfd\\x8e\\xcd\\x0e\\xc6\\x00\\xab\\x1e\\xe6\\x82Z\\xa3S\\x04\\x81\\x90m\\xbe\\x96>W\\x8f5\\xa1\\x9f\\x07%-R\\x9c/\\x800\\xfch_]\\xa0\\x02\\xf5\\x8a\\x16>\\xa5\\x8d\\x8a0\\x12^\\xa2\\xb6W\\xa9f\\x04\\xffx\\xff\\x18]\\xc3'\\xdaTVfD\\x88I\\x1d\\xb9\\xa2\\xd4B\\x14c\\x91;\\x8f\\xdb\\x95\\x86\\xf0\\xa7\\x1bm\\xbe(\\x1b\\xd5^\\x838\\xf6'\\x83\\rk\\xe4m,\\xd7|\\xa9\\x1c\\xc3\\xeeh\\xc1|B\\x1fw\\xacZA\\xa9xR\\x03'\\x1dx\\xb65K;\\x02\\xbc\\xde\\xf1W,\\xfaO\\xfe\\x02g\\x91\\xbfg_/;\\x94M\\xcct\\xa4\\x87sx>\\xfe\\xdc{Y\\x9d\\xcf\\xdc\"\n"
     ]
    }
   ],
   "source": [
    "print(key.export_key(format='DER', passphrase='veris', use_pkcs8=True, protection='PBKDF2WithHMAC-SHA1AndAES128-CBC'))"
   ]
  },
  {
   "cell_type": "code",
   "execution_count": 58,
   "metadata": {},
   "outputs": [
    {
     "name": "stdout",
     "output_type": "stream",
     "text": [
      "0x308187020100301306072a8648ce3d020106082a8648ce3d030107046d306b0201010420d9371d018d6ec179098cd8ee84bae34ba52afd5603ebb7f50a921296f8f5a4c8a14403420004cf92950b317be762d3229f6944e0a9d7b8286de7479b2781ed6f8cc0999ac1955ec303146bfe149d5172abd1e72fe68d78a78d951265463c6e724c031f3d0335\n"
     ]
    }
   ],
   "source": [
    "print(hex(int.from_bytes(key.export_key(format='DER'), \"big\", signed=True)))"
   ]
  },
  {
   "cell_type": "code",
   "execution_count": 59,
   "metadata": {},
   "outputs": [
    {
     "name": "stdout",
     "output_type": "stream",
     "text": [
      "b'0Y0\\x13\\x06\\x07*\\x86H\\xce=\\x02\\x01\\x06\\x08*\\x86H\\xce=\\x03\\x01\\x07\\x03B\\x00\\x04\\xcf\\x92\\x95\\x0b1{\\xe7b\\xd3\"\\x9fiD\\xe0\\xa9\\xd7\\xb8(m\\xe7G\\x9b\\'\\x81\\xedo\\x8c\\xc0\\x99\\x9a\\xc1\\x95^\\xc3\\x03\\x14k\\xfe\\x14\\x9dQr\\xab\\xd1\\xe7/\\xe6\\x8dx\\xa7\\x8d\\x95\\x12eF<nrL\\x03\\x1f=\\x035'\n"
     ]
    }
   ],
   "source": [
    "print(key.public_key().export_key(format='DER'))"
   ]
  },
  {
   "cell_type": "code",
   "execution_count": 60,
   "metadata": {},
   "outputs": [
    {
     "name": "stdout",
     "output_type": "stream",
     "text": [
      "0x3059301306072a8648ce3d020106082a8648ce3d03010703420004cf92950b317be762d3229f6944e0a9d7b8286de7479b2781ed6f8cc0999ac1955ec303146bfe149d5172abd1e72fe68d78a78d951265463c6e724c031f3d0335\n"
     ]
    }
   ],
   "source": [
    "print(hex(int.from_bytes(key.public_key().export_key(format='DER'), \"big\", signed=True)))"
   ]
  },
  {
   "cell_type": "code",
   "execution_count": null,
   "metadata": {},
   "outputs": [],
   "source": []
  }
 ],
 "metadata": {
  "kernelspec": {
   "display_name": "Python 3 (ipykernel)",
   "language": "python",
   "name": "python3"
  },
  "language_info": {
   "codemirror_mode": {
    "name": "ipython",
    "version": 3
   },
   "file_extension": ".py",
   "mimetype": "text/x-python",
   "name": "python",
   "nbconvert_exporter": "python",
   "pygments_lexer": "ipython3",
   "version": "3.9.7"
  }
 },
 "nbformat": 4,
 "nbformat_minor": 4
}
