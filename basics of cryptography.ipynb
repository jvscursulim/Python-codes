{
 "cells": [
  {
   "cell_type": "code",
   "execution_count": 1,
   "metadata": {},
   "outputs": [],
   "source": [
    "alphabet = [['a',0], ['b',1], ['c',2], ['d',3], ['e',4], ['f',5], ['g',6], ['h',7], ['i',8], ['j',9], ['k',10], ['l',11], ['m',12], ['n',13], ['o',14], ['p',15], ['q',16], ['r',17], ['s',18], ['t', 19], ['u', 20], ['v',21], ['w',22], ['x',23],['y',24],['z',25]]"
   ]
  },
  {
   "cell_type": "code",
   "execution_count": 2,
   "metadata": {},
   "outputs": [
    {
     "name": "stdout",
     "output_type": "stream",
     "text": [
      "Type the word to be encoded: apple\n",
      "Type the displacement in the alfabet: 2\n",
      "crrng\n",
      "apple\n"
     ]
    }
   ],
   "source": [
    "#Displacement Method\n",
    "\n",
    "word = input('Type the word to be encoded: ')\n",
    "n = int(input('Type the displacement in the alfabet: '))\n",
    "\n",
    "def encode(alphabet, word, n):\n",
    "    encoded_word = ''\n",
    "    i = 0\n",
    "\n",
    "    while i < len(word):\n",
    "        j = 0\n",
    "        while j < 26:\n",
    "            if word[i] == alphabet[j][0]:\n",
    "                if j+n >= 26:\n",
    "                    aux = j+n - 26\n",
    "                    encoded_word = encoded_word + alphabet[aux][0]\n",
    "                    aux = 0\n",
    "                    break\n",
    "                else:\n",
    "                    encoded_word = encoded_word + alphabet[j+n][0]\n",
    "                    break\n",
    "            j = j+1\n",
    "        i=i+1\n",
    "    \n",
    "    return encoded_word\n",
    "\n",
    "def decode(alphabet, encoded_word, n):\n",
    "    decoded_word = ''\n",
    "    k = 0\n",
    "    \n",
    "    while k < len(encoded_word):\n",
    "        l = 0\n",
    "        while l < 26:\n",
    "            if encoded_word[k] == alphabet[l][0]:\n",
    "                if l-n < 0:\n",
    "                    aux = 26 + (l-n)\n",
    "                    decoded_word = decoded_word + alphabet[aux][0]\n",
    "                    aux = 0\n",
    "                    break\n",
    "                else:\n",
    "                    decoded_word = decoded_word + alphabet[l-n][0]\n",
    "                    break\n",
    "            l=l+1\n",
    "        k=k+1\n",
    "\n",
    "    return decoded_word\n",
    "    \n",
    "print(encode(alphabet,word,n))\n",
    "print(decode(alphabet,encode(alphabet,word,n),n))\n"
   ]
  },
  {
   "cell_type": "code",
   "execution_count": 3,
   "metadata": {},
   "outputs": [
    {
     "name": "stdout",
     "output_type": "stream",
     "text": [
      "Type the word to be encrypted: physics\n",
      "Type the encryption key: sun\n",
      "hblkcpk\n",
      "physics\n"
     ]
    }
   ],
   "source": [
    "#Encryption Key Method\n",
    "\n",
    "word2 = input('Type the word to be encrypted: ')\n",
    "encryption_key = input('Type the encryption key: ')\n",
    "\n",
    "def encode2(alphabet,word2,encryption_key):\n",
    "    encrypted = ''\n",
    "    a = 0\n",
    "    \n",
    "    if len(encryption_key) < len(word2):\n",
    "        add = len(word2)-len(encryption_key)\n",
    "        d = 0\n",
    "        while d < add:\n",
    "            encryption_key = encryption_key + encryption_key[d]\n",
    "            d = d+1\n",
    "    \n",
    "    while a < len(word2):\n",
    "        b = 0\n",
    "        c = 0\n",
    "        while b < 26:\n",
    "            if word2[a] == alphabet[b][0]:\n",
    "                aux = b\n",
    "                break\n",
    "            b = b+1\n",
    "        while c < 26:\n",
    "            if encryption_key[a] == alphabet[c][0]:\n",
    "                aux2 = c\n",
    "                break\n",
    "            c = c+1\n",
    "        if aux+aux2 >= 26:\n",
    "            encrypted = encrypted + alphabet[(aux+aux2)-26][0]\n",
    "        else:\n",
    "            encrypted = encrypted + alphabet[aux+aux2][0]\n",
    "        a = a+1\n",
    "        \n",
    "    return encrypted\n",
    "\n",
    "def decode2(alphabet,word2,encryption_key):\n",
    "    decrypted = ''\n",
    "    a = 0\n",
    "    \n",
    "    if len(encryption_key) < len(word2):\n",
    "        add = len(word2)-len(encryption_key)\n",
    "        d = 0\n",
    "        while d < add:\n",
    "            encryption_key = encryption_key + encryption_key[d]\n",
    "            d = d+1\n",
    "    \n",
    "    while a < len(word2):\n",
    "        b = 0\n",
    "        c = 0\n",
    "        while b < 26:\n",
    "            if word2[a] == alphabet[b][0]:\n",
    "                aux = b\n",
    "                break\n",
    "            b = b+1\n",
    "        while c < 26:\n",
    "            if encryption_key[a] == alphabet[c][0]:\n",
    "                aux2 = c\n",
    "                break\n",
    "            c = c+1\n",
    "        if aux-aux2 < 0:\n",
    "            decrypted = decrypted + alphabet[26+(aux-aux2)][0]\n",
    "        else:\n",
    "            decrypted = decrypted + alphabet[aux-aux2][0]\n",
    "        a = a+1\n",
    "        \n",
    "    return decrypted\n",
    "\n",
    "print(encode2(alphabet,word2,encryption_key))\n",
    "print(decode2(alphabet,encode2(alphabet,word2,encryption_key),encryption_key))"
   ]
  },
  {
   "cell_type": "code",
   "execution_count": null,
   "metadata": {},
   "outputs": [],
   "source": []
  }
 ],
 "metadata": {
  "kernelspec": {
   "display_name": "Python 3",
   "language": "python",
   "name": "python3"
  },
  "language_info": {
   "codemirror_mode": {
    "name": "ipython",
    "version": 3
   },
   "file_extension": ".py",
   "mimetype": "text/x-python",
   "name": "python",
   "nbconvert_exporter": "python",
   "pygments_lexer": "ipython3",
   "version": "3.7.6"
  }
 },
 "nbformat": 4,
 "nbformat_minor": 4
}
